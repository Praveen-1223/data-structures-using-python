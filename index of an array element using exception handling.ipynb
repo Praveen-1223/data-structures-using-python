{
 "cells": [
  {
   "cell_type": "code",
   "execution_count": 3,
   "id": "bea695ca-4cdb-4c2d-afb3-46d8ea0b260e",
   "metadata": {},
   "outputs": [
    {
     "name": "stdin",
     "output_type": "stream",
     "text": [
      "Enter the element to find:  30\n"
     ]
    },
    {
     "name": "stdout",
     "output_type": "stream",
     "text": [
      "1\n"
     ]
    }
   ],
   "source": [
    "import array as arr\n",
    "x = arr.array('i', [10, 30, 20, 60, 50])\n",
    "ele = int(input(\"Enter the element to find: \"))\n",
    "def e_index(x, ele):\n",
    "    n = len(x)\n",
    "    try:\n",
    "        for i in range(n):\n",
    "            if x[i] == ele:\n",
    "                return i  \n",
    "        raise ValueError(\"not found\")  \n",
    "    except ValueError:\n",
    "        return -1  \n",
    "result = e_index(x, ele)\n",
    "\n",
    "print(result)"
   ]
  },
  {
   "cell_type": "markdown",
   "id": "c5e7dec9-c399-4078-b2e0-112702c8d780",
   "metadata": {},
   "source": []
  }
 ],
 "metadata": {
  "kernelspec": {
   "display_name": "Python 3 (ipykernel)",
   "language": "python",
   "name": "python3"
  },
  "language_info": {
   "codemirror_mode": {
    "name": "ipython",
    "version": 3
   },
   "file_extension": ".py",
   "mimetype": "text/x-python",
   "name": "python",
   "nbconvert_exporter": "python",
   "pygments_lexer": "ipython3",
   "version": "3.12.4"
  }
 },
 "nbformat": 4,
 "nbformat_minor": 5
}
